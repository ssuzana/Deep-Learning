{
 "cells": [
  {
   "cell_type": "markdown",
   "id": "fa5c9135-beee-4874-8841-2fcb3c4ba4d3",
   "metadata": {},
   "source": [
    "# Imports"
   ]
  },
  {
   "cell_type": "code",
   "execution_count": 10,
   "id": "3a4051b2-7a0f-4c94-b80e-b3daaff9bebd",
   "metadata": {},
   "outputs": [],
   "source": [
    "import matplotlib.pyplot as plt\n",
    "\n",
    "import tensorflow as tf\n",
    "from tensorflow.keras.datasets import imdb\n",
    "from tensorflow.keras import layers, models, losses, optimizers\n",
    "from tensorflow.keras.preprocessing.sequence import pad_sequences\n",
    "\n",
    "import warnings\n",
    "warnings.filterwarnings('ignore')"
   ]
  },
  {
   "cell_type": "markdown",
   "id": "8346bade-5226-4d73-bf40-38c97b010032",
   "metadata": {
    "tags": []
   },
   "source": [
    "# Get the data\n",
    "\n",
    "We'll use the `imdb`(https://www.tensorflow.org/api_docs/python/tf/keras/datasets/imdb) movie review dataset as an example. \n",
    "\n",
    "It contains 25,000 highly polar movie reviews for training, and another 25,000 for testing. Each review is labeled as 1 (positive) or 0 (negative).\n",
    "\n",
    "We set `num_words=5000`. Words are ranked by how often they occur (in the training set) and only the `num_words` most frequent words are kept. Any less frequent word will appear as `oov_char` value in the sequence data. If None, all words are kept. Default is None."
   ]
  },
  {
   "cell_type": "code",
   "execution_count": 18,
   "id": "58253130-e874-4df7-bc47-27ef6e704372",
   "metadata": {},
   "outputs": [],
   "source": [
    "num_words = 5000\n",
    "(X_train, y_train), (X_test, y_test) = imdb.load_data(num_words=num_words)"
   ]
  },
  {
   "cell_type": "markdown",
   "id": "3b645705-ed01-48a2-94ac-091c87f4c254",
   "metadata": {},
   "source": [
    "# Explore the data"
   ]
  },
  {
   "cell_type": "code",
   "execution_count": 19,
   "id": "7da84938-77fb-4ece-91fe-954ab9be6fbe",
   "metadata": {},
   "outputs": [
    {
     "name": "stdout",
     "output_type": "stream",
     "text": [
      "Number of training samples: 25000\n",
      "Number of positive samples 12500\n",
      "Number of test samples: 25000\n"
     ]
    }
   ],
   "source": [
    "print('Number of training samples:', len(y_train))\n",
    "print('Number of positive samples', sum(y_train))\n",
    "print('Number of test samples:', len(y_test))"
   ]
  },
  {
   "cell_type": "markdown",
   "id": "08532199-0535-44df-b971-fbb8ef62edea",
   "metadata": {},
   "source": [
    "The raw text has already been transformed into a bag of words and each word is represented by an integer. \n",
    "\n",
    "The value of the integer indicates how frequently the word occurs in the dataset. For instance, \"1\" represents the most frequent word, while \"10\" represents the 10th most frequent word. "
   ]
  },
  {
   "cell_type": "code",
   "execution_count": 20,
   "id": "554f6efa-e9ca-4583-b553-e9e1c648dd6a",
   "metadata": {},
   "outputs": [
    {
     "name": "stdout",
     "output_type": "stream",
     "text": [
      "[1, 14, 22, 16, 43, 530, 973, 1622, 1385, 65, 458, 4468, 66, 3941, 4, 173, 36, 256, 5, 25, 100, 43, 838, 112, 50, 670, 2, 9, 35, 480, 284, 5, 150, 4, 172, 112, 167, 2, 336, 385, 39, 4, 172, 4536, 1111, 17, 546, 38, 13, 447, 4, 192, 50, 16, 6, 147, 2025, 19, 14, 22, 4, 1920, 4613, 469, 4, 22, 71, 87, 12, 16, 43, 530, 38, 76, 15, 13, 1247, 4, 22, 17, 515, 17, 12, 16, 626, 18, 2, 5, 62, 386, 12, 8, 316, 8, 106, 5, 4, 2223, 2, 16, 480, 66, 3785, 33, 4, 130, 12, 16, 38, 619, 5, 25, 124, 51, 36, 135, 48, 25, 1415, 33, 6, 22, 12, 215, 28, 77, 52, 5, 14, 407, 16, 82, 2, 8, 4, 107, 117, 2, 15, 256, 4, 2, 7, 3766, 5, 723, 36, 71, 43, 530, 476, 26, 400, 317, 46, 7, 4, 2, 1029, 13, 104, 88, 4, 381, 15, 297, 98, 32, 2071, 56, 26, 141, 6, 194, 2, 18, 4, 226, 22, 21, 134, 476, 26, 480, 5, 144, 30, 2, 18, 51, 36, 28, 224, 92, 25, 104, 4, 226, 65, 16, 38, 1334, 88, 12, 16, 283, 5, 16, 4472, 113, 103, 32, 15, 16, 2, 19, 178, 32]\n"
     ]
    }
   ],
   "source": [
    "print(X_train[0])"
   ]
  },
  {
   "cell_type": "markdown",
   "id": "07a11586-b2f0-4e7b-aeac-12c741e463c3",
   "metadata": {},
   "source": [
    "We can use the word dictionary to map the integer back to the word it represents:"
   ]
  },
  {
   "cell_type": "code",
   "execution_count": 21,
   "id": "a9f24e63-666a-41da-a89a-9b8aba4147ef",
   "metadata": {},
   "outputs": [
    {
     "name": "stdout",
     "output_type": "stream",
     "text": [
      "['the', 'as', 'you', 'with', 'out', 'themselves', 'powerful', 'lets', 'loves', 'their', 'becomes', 'reaching', 'had', 'journalist', 'of', 'lot', 'from', 'anyone', 'to', 'have', 'after', 'out', 'atmosphere', 'never', 'more', 'room', 'and', 'it', 'so', 'heart', 'shows', 'to', 'years', 'of', 'every', 'never', 'going', 'and', 'help', 'moments', 'or', 'of', 'every', 'chest', 'visual', 'movie', 'except', 'her', 'was', 'several', 'of', 'enough', 'more', 'with', 'is', 'now', 'current', 'film', 'as', 'you', 'of', 'mine', 'potentially', 'unfortunately', 'of', 'you', 'than', 'him', 'that', 'with', 'out', 'themselves', 'her', 'get', 'for', 'was', 'camp', 'of', 'you', 'movie', 'sometimes', 'movie', 'that', 'with', 'scary', 'but', 'and', 'to', 'story', 'wonderful', 'that', 'in', 'seeing', 'in', 'character', 'to', 'of', '70s', 'and', 'with', 'heart', 'had', 'shadows', 'they', 'of', 'here', 'that', 'with', 'her', 'serious', 'to', 'have', 'does', 'when', 'from', 'why', 'what', 'have', 'critics', 'they', 'is', 'you', 'that', \"isn't\", 'one', 'will', 'very', 'to', 'as', 'itself', 'with', 'other', 'and', 'in', 'of', 'seen', 'over', 'and', 'for', 'anyone', 'of', 'and', 'br', \"show's\", 'to', 'whether', 'from', 'than', 'out', 'themselves', 'history', 'he', 'name', 'half', 'some', 'br', 'of', 'and', 'odd', 'was', 'two', 'most', 'of', 'mean', 'for', '1', 'any', 'an', 'boat', 'she', 'he', 'should', 'is', 'thought', 'and', 'but', 'of', 'script', 'you', 'not', 'while', 'history', 'he', 'heart', 'to', 'real', 'at', 'and', 'but', 'when', 'from', 'one', 'bit', 'then', 'have', 'two', 'of', 'script', 'their', 'with', 'her', 'nobody', 'most', 'that', 'with', \"wasn't\", 'to', 'with', 'armed', 'acting', 'watch', 'an', 'for', 'with', 'and', 'film', 'want', 'an']\n"
     ]
    }
   ],
   "source": [
    "index_word = {index: word for word, index in imdb.get_word_index().items()}\n",
    "print([index_word.get(i, ' ') for i in X_train[0]])"
   ]
  },
  {
   "cell_type": "markdown",
   "id": "c69ad305-43c3-4b26-ba29-cdd140ec56ec",
   "metadata": {},
   "source": [
    "# Data preprocessing"
   ]
  },
  {
   "cell_type": "markdown",
   "id": "403b09b4-c734-4800-a478-757cfdf1e85f",
   "metadata": {},
   "source": [
    "All the input sequences to an RNN model must be the same length. We now check the length of each sample (the number of words in each review):"
   ]
  },
  {
   "cell_type": "code",
   "execution_count": 22,
   "id": "c72938e9-3698-45c5-a89e-e262a1df22cf",
   "metadata": {},
   "outputs": [
    {
     "data": {
      "image/png": "[encoded data removed]",
      "text/plain": [
       "<Figure size 640x480 with 1 Axes>"
      ]
     },
     "metadata": {},
     "output_type": "display_data"
    }
   ],
   "source": [
    "review_lengths = [len(x) for x in X_train]\n",
    "\n",
    "plt.hist(review_lengths, bins=10)\n",
    "plt.show()"
   ]
  },
  {
   "cell_type": "markdown",
   "id": "5c6cf020-7d49-4037-9df7-5ceb1577590b",
   "metadata": {},
   "source": [
    "We can see in the above plot that the majority of the reviews are around 200 words long. \n",
    "\n",
    "We set 200 as the universal sequence length by padding shorter reviews with zeros and truncating longer reviews. We use the `pad_sequences` function from Keras to accomplish this:"
   ]
  },
  {
   "cell_type": "code",
   "execution_count": 23,
   "id": "b5da928d-daa5-4d00-aa6b-3fe2ca6b780d",
   "metadata": {},
   "outputs": [],
   "source": [
    "maxlen = 200\n",
    "X_train = pad_sequences(X_train, maxlen=maxlen)\n",
    "X_test = pad_sequences(X_test, maxlen=maxlen)"
   ]
  },
  {
   "cell_type": "code",
   "execution_count": 24,
   "id": "d62212e2-89bd-4d1b-856f-0df1405a413f",
   "metadata": {},
   "outputs": [
    {
     "name": "stdout",
     "output_type": "stream",
     "text": [
      "X_train shape after padding: (25000, 200)\n",
      "X_test shape after padding: (25000, 200)\n"
     ]
    }
   ],
   "source": [
    "print('X_train shape after padding:', X_train.shape)\n",
    "print('X_test shape after padding:', X_test.shape)"
   ]
  },
  {
   "cell_type": "markdown",
   "id": "ac0aaa7d-766d-4cc2-bd00-267ec948a1b6",
   "metadata": {},
   "source": [
    "# RNN model"
   ]
  },
  {
   "cell_type": "code",
   "execution_count": 68,
   "id": "c94a4ab4-d342-4f4d-996c-48359780a9e0",
   "metadata": {},
   "outputs": [],
   "source": [
    "tf.random.set_seed(42)\n",
    "model = models.Sequential()"
   ]
  },
  {
   "cell_type": "markdown",
   "id": "c408ae9a-731d-4bfb-b573-34fc46842775",
   "metadata": {},
   "source": [
    "We embed the input sequences that are made of up `num_words=5000` unique word tokens into dense vectors of size 32:"
   ]
  },
  {
   "cell_type": "code",
   "execution_count": 69,
   "id": "c27b503f-a0ee-47e7-b038-77ab3cf253aa",
   "metadata": {},
   "outputs": [],
   "source": [
    "embedding_size = 32\n",
    "model.add(layers.Embedding(num_words, embedding_size))"
   ]
  },
  {
   "cell_type": "code",
   "execution_count": 70,
   "id": "4de1acd1-6e09-4115-b64c-eacb974983c3",
   "metadata": {},
   "outputs": [],
   "source": [
    "# the recurrent layers (LSTM layers)\n",
    "model.add(layers.LSTM(50, return_sequences=True, dropout=0.3))\n",
    "model.add(layers.LSTM(50, dropout=0.3))"
   ]
  },
  {
   "cell_type": "code",
   "execution_count": 71,
   "id": "9a3fd045-1046-4d43-a765-ced8cab9756c",
   "metadata": {},
   "outputs": [],
   "source": [
    "# the output layer\n",
    "model.add(layers.Dense(1, activation='sigmoid'))"
   ]
  },
  {
   "cell_type": "code",
   "execution_count": 72,
   "id": "be873a91-ee2e-4480-b1d2-45af044d3368",
   "metadata": {},
   "outputs": [
    {
     "name": "stdout",
     "output_type": "stream",
     "text": [
      "Model: \"sequential_5\"\n",
      "_________________________________________________________________\n",
      " Layer (type)                Output Shape              Param #   \n",
      "=================================================================\n",
      " embedding_4 (Embedding)     (None, None, 32)          160000    \n",
      "                                                                 \n",
      " lstm_7 (LSTM)               (None, None, 50)          16600     \n",
      "                                                                 \n",
      " lstm_8 (LSTM)               (None, 50)                20200     \n",
      "                                                                 \n",
      " dense_3 (Dense)             (None, 1)                 51        \n",
      "                                                                 \n",
      "=================================================================\n",
      "Total params: 196,851\n",
      "Trainable params: 196,851\n",
      "Non-trainable params: 0\n",
      "_________________________________________________________________\n",
      "None\n"
     ]
    }
   ],
   "source": [
    "print(model.summary())"
   ]
  },
  {
   "cell_type": "code",
   "execution_count": 73,
   "id": "a922ba34-d9cc-4ace-a17d-c6718ac9051d",
   "metadata": {},
   "outputs": [],
   "source": [
    "optimizer = optimizers.Adam(lr=0.003)\n",
    "model.compile(loss='binary_crossentropy',\n",
    "              optimizer=optimizer,\n",
    "              metrics=['accuracy'])"
   ]
  },
  {
   "cell_type": "code",
   "execution_count": 76,
   "id": "89227df4-aaea-4646-ba52-2ed6dc75d819",
   "metadata": {},
   "outputs": [
    {
     "name": "stdout",
     "output_type": "stream",
     "text": [
      "Epoch 1/7\n",
      "391/391 [==============================] - 58s 148ms/step - loss: 0.2161 - accuracy: 0.9180 - val_loss: 0.3242 - val_accuracy: 0.8697\n",
      "Epoch 2/7\n",
      "391/391 [==============================] - 57s 147ms/step - loss: 0.1967 - accuracy: 0.9244 - val_loss: 0.3378 - val_accuracy: 0.8721\n",
      "Epoch 3/7\n",
      "391/391 [==============================] - 58s 147ms/step - loss: 0.1684 - accuracy: 0.9367 - val_loss: 0.3635 - val_accuracy: 0.8689\n",
      "Epoch 4/7\n",
      "391/391 [==============================] - 58s 148ms/step - loss: 0.1440 - accuracy: 0.9463 - val_loss: 0.3993 - val_accuracy: 0.8708\n",
      "Epoch 5/7\n",
      "391/391 [==============================] - 98s 251ms/step - loss: 0.1286 - accuracy: 0.9526 - val_loss: 0.4058 - val_accuracy: 0.8624\n",
      "Epoch 6/7\n",
      "391/391 [==============================] - 58s 148ms/step - loss: 0.1204 - accuracy: 0.9557 - val_loss: 0.4074 - val_accuracy: 0.8572\n",
      "Epoch 7/7\n",
      "391/391 [==============================] - 58s 149ms/step - loss: 0.1231 - accuracy: 0.9551 - val_loss: 0.4105 - val_accuracy: 0.8723\n"
     ]
    },
    {
     "data": {
      "text/plain": [
       "<keras.callbacks.History at 0x7fe517f78df0>"
      ]
     },
     "execution_count": 76,
     "metadata": {},
     "output_type": "execute_result"
    }
   ],
   "source": [
    "batch_size = 64\n",
    "n_epoch = 7\n",
    "model.fit(X_train, y_train,\n",
    "          batch_size=batch_size,\n",
    "          epochs=n_epoch,\n",
    "          validation_data=(X_test, y_test))"
   ]
  },
  {
   "cell_type": "code",
   "execution_count": 77,
   "id": "d0e38572-8ec0-4bfd-81b6-cda17ce43109",
   "metadata": {},
   "outputs": [
    {
     "name": "stdout",
     "output_type": "stream",
     "text": [
      "Test accuracy: 0.8723199963569641\n"
     ]
    }
   ],
   "source": [
    "acc = model.evaluate(X_test, y_test, verbose = 0)[1]\n",
    "print('Test accuracy:', acc)"
   ]
  },
  {
   "cell_type": "code",
   "execution_count": null,
   "id": "547e2b00-cac2-4ab0-b2cf-a00838cbd4c3",
   "metadata": {},
   "outputs": [],
   "source": []
  }
 ],
 "metadata": {
  "kernelspec": {
   "display_name": "Python 3 (ipykernel)",
   "language": "python",
   "name": "python3"
  },
  "language_info": {
   "codemirror_mode": {
    "name": "ipython",
    "version": 3
   },
   "file_extension": ".py",
   "mimetype": "text/x-python",
   "name": "python",
   "nbconvert_exporter": "python",
   "pygments_lexer": "ipython3",
   "version": "3.9.13"
  }
 },
 "nbformat": 4,
 "nbformat_minor": 5
}
